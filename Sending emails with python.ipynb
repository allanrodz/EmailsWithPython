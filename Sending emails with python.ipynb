{
 "cells": [
  {
   "cell_type": "code",
   "execution_count": null,
   "id": "f498fb93",
   "metadata": {},
   "outputs": [],
   "source": [
    "import smtplib"
   ]
  },
  {
   "cell_type": "code",
   "execution_count": null,
   "id": "03694a6e",
   "metadata": {},
   "outputs": [],
   "source": [
    "smtp_object = smtplib.SMTP('smtp.gmail.com', 587)"
   ]
  },
  {
   "cell_type": "code",
   "execution_count": null,
   "id": "721f055d",
   "metadata": {},
   "outputs": [],
   "source": [
    "smtp_object.ehlo()"
   ]
  },
  {
   "cell_type": "code",
   "execution_count": null,
   "id": "4c937504",
   "metadata": {},
   "outputs": [],
   "source": [
    "smtp_object.starttls()"
   ]
  },
  {
   "cell_type": "code",
   "execution_count": null,
   "id": "ec1f66cb",
   "metadata": {},
   "outputs": [],
   "source": [
    "import getpass"
   ]
  },
  {
   "cell_type": "code",
   "execution_count": null,
   "id": "9493c399",
   "metadata": {},
   "outputs": [],
   "source": [
    "password = getpass.getpass('What is your password?: ')"
   ]
  },
  {
   "cell_type": "code",
   "execution_count": null,
   "id": "420d319a",
   "metadata": {},
   "outputs": [],
   "source": [
    "email = input('Email: ')\n",
    "password = input('Password?: ')\n",
    "smtp_object.login(email,password)"
   ]
  },
  {
   "cell_type": "code",
   "execution_count": null,
   "id": "d24b68ce",
   "metadata": {},
   "outputs": [],
   "source": [
    "from_address = email\n",
    "to_address = 'allanrodolfocalaca@me.com'\n",
    "subject = input('enter the subject line: ')\n",
    "message = input('enter the body message: ')\n",
    "msg = 'subject: '+subject+'\\n'+message\n",
    "\n",
    "smtp_object.sendmail(from_address, to_address, msg)"
   ]
  },
  {
   "cell_type": "code",
   "execution_count": null,
   "id": "5dde9de4",
   "metadata": {},
   "outputs": [],
   "source": [
    "smtp_object.quit()"
   ]
  },
  {
   "cell_type": "code",
   "execution_count": null,
   "id": "6d6fa24f",
   "metadata": {},
   "outputs": [],
   "source": [
    "## to receive/check emails VVV\n"
   ]
  },
  {
   "cell_type": "code",
   "execution_count": 1,
   "id": "4e286284",
   "metadata": {},
   "outputs": [],
   "source": [
    "import imaplib"
   ]
  },
  {
   "cell_type": "code",
   "execution_count": 2,
   "id": "62c86b2e",
   "metadata": {},
   "outputs": [],
   "source": [
    "M = imaplib.IMAP4_SSL('imap.gmail.com')"
   ]
  },
  {
   "cell_type": "code",
   "execution_count": null,
   "id": "6307183d",
   "metadata": {},
   "outputs": [],
   "source": [
    "import getpass"
   ]
  },
  {
   "cell_type": "code",
   "execution_count": 3,
   "id": "ea567104",
   "metadata": {},
   "outputs": [
    {
     "name": "stdout",
     "output_type": "stream",
     "text": [
      "Email: learntodayproject@gmail.com\n",
      "Password: zvkkxrceqhofsnti\n"
     ]
    }
   ],
   "source": [
    "email = input('Email: ')\n",
    "password = input('Password: ')"
   ]
  },
  {
   "cell_type": "code",
   "execution_count": 4,
   "id": "97e196fe",
   "metadata": {},
   "outputs": [
    {
     "data": {
      "text/plain": [
       "('OK', [b'learntodayproject@gmail.com authenticated (Success)'])"
      ]
     },
     "execution_count": 4,
     "metadata": {},
     "output_type": "execute_result"
    }
   ],
   "source": [
    "M.login(email, password)"
   ]
  },
  {
   "cell_type": "code",
   "execution_count": null,
   "id": "126d41c8",
   "metadata": {},
   "outputs": [],
   "source": [
    "M.list()"
   ]
  },
  {
   "cell_type": "code",
   "execution_count": 5,
   "id": "ee139b2a",
   "metadata": {},
   "outputs": [
    {
     "data": {
      "text/plain": [
       "('OK', [b'11'])"
      ]
     },
     "execution_count": 5,
     "metadata": {},
     "output_type": "execute_result"
    }
   ],
   "source": [
    "M.select('inbox')"
   ]
  },
  {
   "cell_type": "code",
   "execution_count": 6,
   "id": "71672efe",
   "metadata": {},
   "outputs": [],
   "source": [
    "typ, data = M.search(None, 'SUBJECT \"I LOVE GREEN MONKEYS\"')"
   ]
  },
  {
   "cell_type": "code",
   "execution_count": 7,
   "id": "8598d792",
   "metadata": {},
   "outputs": [
    {
     "data": {
      "text/plain": [
       "'OK'"
      ]
     },
     "execution_count": 7,
     "metadata": {},
     "output_type": "execute_result"
    }
   ],
   "source": [
    "typ"
   ]
  },
  {
   "cell_type": "code",
   "execution_count": 10,
   "id": "83f6230f",
   "metadata": {},
   "outputs": [],
   "source": [
    "email_id = data[0]"
   ]
  },
  {
   "cell_type": "code",
   "execution_count": 11,
   "id": "d667ea11",
   "metadata": {},
   "outputs": [],
   "source": [
    "result, email_data = M.fetch(email_id,'(RFC822)')"
   ]
  },
  {
   "cell_type": "code",
   "execution_count": 12,
   "id": "268a5d07",
   "metadata": {},
   "outputs": [
    {
     "data": {
      "text/plain": [
       "[(b'11 (RFC822 {5066}',\n",
       "  b'Delivered-To: learntodayproject@gmail.com\\r\\nReceived: by 2002:ab0:3894:0:0:0:0:0 with SMTP id z20csp933252uav;\\r\\n        Mon, 26 Jul 2021 03:29:54 -0700 (PDT)\\r\\nX-Received: by 2002:a7b:cbda:: with SMTP id n26mr16297471wmi.179.1627295393921;\\r\\n        Mon, 26 Jul 2021 03:29:53 -0700 (PDT)\\r\\nARC-Seal: i=1; a=rsa-sha256; t=1627295393; cv=none;\\r\\n        d=google.com; s=arc-20160816;\\r\\n        b=JBKgdfirl3bPip13kSGjGjbB43XC+WvsjndDjaDw6w8z8+vCr7Ci1/psvZ/+kmjHg2\\r\\n         NGX/Bj7DIcgIbalBKzPj/nl82Q61paUA2xPmzK0W1X3gBIDIO8V6DAvAIKEeM4d8JyQZ\\r\\n         8C+U3Inx/zuX8fa8Lw56+H/xQNuajYiZqAHImJhCgD7ZXlxM7/4VYgBVZkT6gU/LJ05L\\r\\n         n5wJgbHETuLJC96Dwx2uCYWq/iOZS5SwUjZBXNDULvbVHRD7Exfizud55IhjCMyHZWKA\\r\\n         VZe+bDs/eY5qb625c+7TzlcKLFMdEQGymHIWocPUaeXb7vFUzS6NQYMDVgMW+1CFf2z4\\r\\n         oerw==\\r\\nARC-Message-Signature: i=1; a=rsa-sha256; c=relaxed/relaxed; d=google.com; s=arc-20160816;\\r\\n        h=to:message-id:subject:date:mime-version:from\\r\\n         :content-transfer-encoding:dkim-signature;\\r\\n        bh=S25OUDrKzoWD1KU/dsQErAVa1/nVyXC+L+RMapTMJdw=;\\r\\n        b=dkis6lXRDi0asP87X0BHtIfKGzggcLDxJtS5hljCeCjvKMPh60XTqnVy0Vg/TFOAYr\\r\\n         gliabcz9buU1mD+de9eJ02MxG61P0Hwaw69Cosih/kRKKuwxPLNuFTnp/On6T8UQ2zq1\\r\\n         NJnURW8y7AFVQmtc2tINFkFJaaT8umnML70+y32efNAe6lC+f8G4JyYxo0JYrDOpo80A\\r\\n         LJfRJRV+wYTeC6lwf0vuOrtLnohIO1EYldl63IEEGtt0PC74tlWwXy6OvwwM0isXk33f\\r\\n         8HnHCbEK6HpE9OcwroIuZlc54Yk8dhPUSDmEisJkbXw7E+rs4h4b48Z3JA9X14+F6lN5\\r\\n         Q9Rg==\\r\\nARC-Authentication-Results: i=1; mx.google.com;\\r\\n       dkim=pass header.i=@gmail.com header.s=20161025 header.b=RUKcIUEH;\\r\\n       spf=pass (google.com: domain of allanrodolfocalaca@gmail.com designates 209.85.220.41 as permitted sender) smtp.mailfrom=allanrodolfocalaca@gmail.com;\\r\\n       dmarc=pass (p=NONE sp=QUARANTINE dis=NONE) header.from=gmail.com\\r\\nReturn-Path: <allanrodolfocalaca@gmail.com>\\r\\nReceived: from mail-sor-f41.google.com (mail-sor-f41.google.com. [209.85.220.41])\\r\\n        by mx.google.com with SMTPS id l22sor6861342wms.21.2021.07.26.03.29.53\\r\\n        for <learntodayproject@gmail.com>\\r\\n        (Google Transport Security);\\r\\n        Mon, 26 Jul 2021 03:29:53 -0700 (PDT)\\r\\nReceived-SPF: pass (google.com: domain of allanrodolfocalaca@gmail.com designates 209.85.220.41 as permitted sender) client-ip=209.85.220.41;\\r\\nAuthentication-Results: mx.google.com;\\r\\n       dkim=pass header.i=@gmail.com header.s=20161025 header.b=RUKcIUEH;\\r\\n       spf=pass (google.com: domain of allanrodolfocalaca@gmail.com designates 209.85.220.41 as permitted sender) smtp.mailfrom=allanrodolfocalaca@gmail.com;\\r\\n       dmarc=pass (p=NONE sp=QUARANTINE dis=NONE) header.from=gmail.com\\r\\nDKIM-Signature: v=1; a=rsa-sha256; c=relaxed/relaxed;\\r\\n        d=gmail.com; s=20161025;\\r\\n        h=content-transfer-encoding:from:mime-version:date:subject:message-id\\r\\n         :to;\\r\\n        bh=S25OUDrKzoWD1KU/dsQErAVa1/nVyXC+L+RMapTMJdw=;\\r\\n        b=RUKcIUEHMC6f+KjfeR6p1SZb+Al2Ilx3pDlc/543pIn/t/3bLidD+tqC1novKSlJ9P\\r\\n         pgX9RPAIYzaRrf7KtFfE2WWm+8KvAHCVyFPZPEsqMG2gvgSCCgNrGxSEDNWy20NWOYQG\\r\\n         PyuiOYLlMHA4CduGPLFzahzk61WYa1Nj61It5ss0rYGSSgDL4ctJfoJEU3MsGcEe5MF0\\r\\n         FpGQf9mvSRFqUtDVuBVwylFNvt1dPxX+TgdYfRs8pAidqIe4cxldveA+pKFrGBPilcSM\\r\\n         Rg288CH5ZMW5aHxzcNZ9egaxP28GO/NvaojxDa9WzwkZAvjdn87sjqrdpWFDarhnMs1r\\r\\n         1Lhg==\\r\\nX-Google-DKIM-Signature: v=1; a=rsa-sha256; c=relaxed/relaxed;\\r\\n        d=1e100.net; s=20161025;\\r\\n        h=x-gm-message-state:content-transfer-encoding:from:mime-version:date\\r\\n         :subject:message-id:to;\\r\\n        bh=S25OUDrKzoWD1KU/dsQErAVa1/nVyXC+L+RMapTMJdw=;\\r\\n        b=Y6N5hf+n5zATrv0B6iradPfNMUeEDy1o0qzYVmiyensZYl9yhb09merZgWGbxnz7ma\\r\\n         KT8keFmybcfQ3IfllFC6iiDkxk2uy80dLJrhkia9ReVgOrDN3d0Xxg8oGhVVVWGxzICQ\\r\\n         9uMUMA+ZBZrnEa3ymaE65yOTU4JuggJ+PeUUgU3MVw6QtVC4wBc6TlPAdIe/+F1sTBNE\\r\\n         xPOG9jHLKQKDgEcrugS/nIykKhc5gjC2Ej4dy1oQli0EuS3s1gaeVTJPtzryKDWwsl4C\\r\\n         jz9kCzPoWSoK7WeMKYwWvVAsb79VtSVx5hv3B+WeSnZvzaGkgvM6QXi+WN4KpAVPmSXc\\r\\n         fFZQ==\\r\\nX-Gm-Message-State: AOAM5334REH5mwPuypYymu9PLDTKa8fF6e/AsJkeNxJPICo57Vgp4zJB\\r\\n\\t2SGxNMfcECOTe0U/hRjT0X/54WzIs6vEHw==\\r\\nX-Google-Smtp-Source: ABdhPJwg7Xit2hxFLtg1PIueZNTyzv5R3Wcf6Tf5fkp/wdh7dz0bpqteE+qgpNELf7+0sQeSJtrt6w==\\r\\nX-Received: by 2002:a05:600c:4a12:: with SMTP id c18mr7409863wmp.3.1627295393192;\\r\\n        Mon, 26 Jul 2021 03:29:53 -0700 (PDT)\\r\\nReturn-Path: <allanrodolfocalaca@gmail.com>\\r\\nReceived: from smtpclient.apple ([89.19.88.35])\\r\\n        by smtp.gmail.com with ESMTPSA id d18sm33504125wmp.46.2021.07.26.03.29.51\\r\\n        for <learntodayproject@gmail.com>\\r\\n        (version=TLS1_3 cipher=TLS_AES_128_GCM_SHA256 bits=128/128);\\r\\n        Mon, 26 Jul 2021 03:29:52 -0700 (PDT)\\r\\nContent-Type: text/plain; charset=us-ascii\\r\\nContent-Transfer-Encoding: 7bit\\r\\nFrom: Allan Rodolfo <allanrodolfocalaca@gmail.com>\\r\\nMime-Version: 1.0 (1.0)\\r\\nDate: Mon, 26 Jul 2021 11:29:51 +0100\\r\\nSubject: I LOVE GREEN MONKEYS\\r\\nMessage-Id: <EB312FEB-3C97-4DF9-B34C-62E673644561@gmail.com>\\r\\nTo: Learn Today <learntodayproject@gmail.com>\\r\\nX-Mailer: iPhone Mail (18E212)\\r\\n\\r\\nTest. Test :)\\r\\n\\r\\nSent from my iPhone\\r\\n'),\n",
       " b')']"
      ]
     },
     "execution_count": 12,
     "metadata": {},
     "output_type": "execute_result"
    }
   ],
   "source": [
    "email_data"
   ]
  },
  {
   "cell_type": "code",
   "execution_count": 13,
   "id": "995dc8a1",
   "metadata": {},
   "outputs": [],
   "source": [
    "raw_email = email_data[0][1]"
   ]
  },
  {
   "cell_type": "code",
   "execution_count": 14,
   "id": "f4aa5afe",
   "metadata": {},
   "outputs": [],
   "source": [
    "raw_email_string = raw_email.decode('utf-8')"
   ]
  },
  {
   "cell_type": "code",
   "execution_count": 15,
   "id": "3175b278",
   "metadata": {},
   "outputs": [],
   "source": [
    "import email"
   ]
  },
  {
   "cell_type": "code",
   "execution_count": 16,
   "id": "a12c8957",
   "metadata": {},
   "outputs": [],
   "source": [
    "email_message = email.message_from_string(raw_email_string)"
   ]
  },
  {
   "cell_type": "code",
   "execution_count": 19,
   "id": "95784252",
   "metadata": {},
   "outputs": [
    {
     "name": "stdout",
     "output_type": "stream",
     "text": [
      "b'Test. Test :)\\r\\n\\r\\nSent from my iPhone\\r\\n'\n"
     ]
    }
   ],
   "source": [
    "for part in email_message.walk():\n",
    "    \n",
    "    if part.get_content_type() == 'text/plain':\n",
    "        body = part.get_payload(decode=True)\n",
    "        print(body)\n"
   ]
  },
  {
   "cell_type": "code",
   "execution_count": null,
   "id": "9f02089f",
   "metadata": {},
   "outputs": [],
   "source": [
    "#for checking links in the email\n",
    "for part in email_message.walk():\n",
    "    \n",
    "    if part.get_content_type() == 'text/html':\n",
    "        body = part.get_payload(decode=True)\n",
    "        print(body)\n"
   ]
  }
 ],
 "metadata": {
  "kernelspec": {
   "display_name": "Python 3",
   "language": "python",
   "name": "python3"
  },
  "language_info": {
   "codemirror_mode": {
    "name": "ipython",
    "version": 3
   },
   "file_extension": ".py",
   "mimetype": "text/x-python",
   "name": "python",
   "nbconvert_exporter": "python",
   "pygments_lexer": "ipython3",
   "version": "3.8.8"
  }
 },
 "nbformat": 4,
 "nbformat_minor": 5
}
